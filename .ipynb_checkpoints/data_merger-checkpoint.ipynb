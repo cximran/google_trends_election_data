{
 "cells": [
  {
   "cell_type": "code",
   "execution_count": 7,
   "metadata": {
    "collapsed": true
   },
   "outputs": [],
   "source": [
    "import pandas as pd\n",
    "import glob\n",
    "import csv\n",
    "import re\n",
    "regex = r\"[A-Z][A-Z](?=.csv)\" #RegeX for finding state data\n"
   ]
  },
  {
   "cell_type": "code",
   "execution_count": 8,
   "metadata": {
    "collapsed": true
   },
   "outputs": [],
   "source": [
    "election_trends_1 = glob.glob(\"state_election_trends/*\")\n",
    "election_trends_2 = glob.glob(\"state_election_trends2/*\")\n",
    "base_data_frame=pd.read_csv(\"GTelection_example.csv\")"
   ]
  },
  {
   "cell_type": "code",
   "execution_count": 9,
   "metadata": {
    "collapsed": false
   },
   "outputs": [],
   "source": [
    "trends_list=[]\n",
    "for file in election_trends_1:\n",
    "    state=str(re.search(regex,file).group(0))\n",
    "    data=pd.read_csv(file)\n",
    "    data['state']=state\n",
    "    trends_list.append(data)\n",
    "for file in election_trends_2:\n",
    "    state=str(re.search(regex,file).group(0))\n",
    "    data=pd.read_csv(file)\n",
    "    data['state']=state\n",
    "    trends_list.append(data)\n",
    "df1=base_data_frame.append(trends_list)\n",
    "    "
   ]
  },
  {
   "cell_type": "code",
   "execution_count": null,
   "metadata": {
    "collapsed": false
   },
   "outputs": [],
   "source": []
  },
  {
   "cell_type": "code",
   "execution_count": 10,
   "metadata": {
    "collapsed": false
   },
   "outputs": [],
   "source": [
    "#rearrange the columns and export to csv\n",
    "\n",
    "cols=df1.columns.tolist()\n",
    "cols2=['date','state',' election anxiety',\n",
    " ' election anxious',\n",
    " ' election stressed',\n",
    " 'election stress'\n",
    "]\n",
    "df1[cols2].to_csv(\"GTElection_merged.csv\",index=False)"
   ]
  },
  {
   "cell_type": "code",
   "execution_count": null,
   "metadata": {
    "collapsed": false
   },
   "outputs": [],
   "source": []
  },
  {
   "cell_type": "code",
   "execution_count": null,
   "metadata": {
    "collapsed": true
   },
   "outputs": [],
   "source": []
  }
 ],
 "metadata": {
  "kernelspec": {
   "display_name": "Python 3",
   "language": "python",
   "name": "python3"
  },
  "language_info": {
   "codemirror_mode": {
    "name": "ipython",
    "version": 3
   },
   "file_extension": ".py",
   "mimetype": "text/x-python",
   "name": "python",
   "nbconvert_exporter": "python",
   "pygments_lexer": "ipython3",
   "version": "3.6.0"
  }
 },
 "nbformat": 4,
 "nbformat_minor": 0
}
